{
 "cells": [
  {
   "cell_type": "code",
   "execution_count": null,
   "metadata": {},
   "outputs": [],
   "source": [
    "%%bash\n",
    "# for colabo user\n",
    "mkdir imgs\n",
    "cd imgs\n",
    "wget https://github.com/TatsuyaKatayama/OpenFOAMandBaysianOpt_Notebooks/raw/master/imgs/calc_flow3.svg\n",
    "wget https://github.com/TatsuyaKatayama/OpenFOAMandBaysianOpt_Notebooks/raw/master/imgs/calc_flow3.png\n",
    "wget https://github.com/TatsuyaKatayama/OpenFOAMandBaysianOpt_Notebooks/raw/master/imgs/damBreak.png\n",
    "wget https://github.com/TatsuyaKatayama/OpenFOAMandBaysianOpt_Notebooks/raw/master/imgs/opt_flow0.png\n",
    "wget https://github.com/TatsuyaKatayama/OpenFOAMandBaysianOpt_Notebooks/raw/master/imgs/opt_flow1.png\n",
    "wget https://github.com/TatsuyaKatayama/OpenFOAMandBaysianOpt_Notebooks/raw/master/imgs/opt_flow2.png"
   ]
  },
  {
   "cell_type": "markdown",
   "metadata": {},
   "source": [
    "# OpenFOAMの自動化\n",
    "本Notebookでは、Jupyter上のPythonからOpenFOAMを実行する方法を学習する。\n",
    "\n",
    "## OpenFOAMの環境変数の読み込み\n",
    "OpenFOAMをShellから実行する場合、まず初めにOpenFOAMの設定ファイルから環境変数の読み込む。\n",
    "\n",
    "Jupyter環境のPythonからOpenFOAMを実行する場合も同様でOpenFOAMの環境変数の読み込みが必須である。 \\\n",
    "具体的に方法として下記の方法がある。\n",
    "\n",
    "1. OpenFOAMの環境変数を読み込んだ状態でJupyterサーバを起動する\n",
    "2. Notebook上でShellの環境変数を読み込み、Python上で環境変数にセットする\n",
    "\n",
    "通常1の方法が一般的である。しかし、ColaboratoryなどすでにJupyterサーバが起動している環境では2の方法が有効である。\n",
    "\n",
    "以下に、「2. Notebook上でShellの環境変数を読み込み、Python上で環境変数にセットする」方法を示す。\n",
    "例として、OpenFOAMの設定ファイルが「/opt/openfoam6/etc/bashrc」にある場合、下記のようなコードを実行する。"
   ]
  },
  {
   "cell_type": "code",
   "execution_count": 1,
   "metadata": {},
   "outputs": [],
   "source": [
    "import os, shlex, subprocess, shutil\n",
    "\n",
    "#shellで実行するコマンド\n",
    "command = shlex.split(\n",
    "    \"env -i bash -c 'source /opt/openfoam6/etc/bashrc && env'\")\n",
    "\n",
    "#shellで実行\n",
    "proc = subprocess.Popen(command, stdout = subprocess.PIPE)\n",
    "#実行結果を格納\n",
    "stdout_data, stderr_data = proc.communicate()\n",
    "\n",
    "#標準出力を1行ずつ抽出\n",
    "for l in stdout_data.decode('utf-8').split(\"\\n\"):\n",
    "    try:\n",
    "        key, value = l.split(\"=\")\n",
    "        os.environ[key] = value #環境変数にセット\n",
    "    except Exception as e:\n",
    "        pass #print(e) #例外を知りたいとき"
   ]
  },
  {
   "cell_type": "markdown",
   "metadata": {},
   "source": [
    "OpenFOAMをPythonから使いやすくするThirdParty製のライブラリであるPyFoamを用いるとインストールされているバージョンを取得できる。"
   ]
  },
  {
   "cell_type": "code",
   "execution_count": 2,
   "metadata": {},
   "outputs": [
    {
     "data": {
      "text/plain": [
       "'6'"
      ]
     },
     "execution_count": 2,
     "metadata": {},
     "output_type": "execute_result"
    }
   ],
   "source": [
    "import PyFoam\n",
    "PyFoam.foamVersionString()"
   ]
  },
  {
   "cell_type": "markdown",
   "metadata": {},
   "source": [
    "---\n",
    "\n",
    "# damBreakで右壁まで水滴を飛ばす\n",
    "damBreakのチュートリアルを例題にPyFoamの使い方を学ぶ。\\\n",
    "0.4[s]時の右壁(x+)に飛散する水滴の最高到達点を計算する。\n",
    "\n",
    "![damBreak](./imgs/damBreak.png)\n",
    "\n",
    "デフォルトのチュートリアルを対象に下記の流れで計算する\n",
    "\n",
    "* チュートリアルのコピー\n",
    "* ControlDictの変更\n",
    "    + 計算時間は0.4[s]\n",
    "    + 書き込みタイミングも0.4[s]\n",
    "    + 右端(x+)の面の高さ方向のalpha.waterの取得\n",
    "* blockMeshDictの別名保存\n",
    "* blockMeshDictの変更\n",
    "    + 堰の高さh変更(0.32876x0.146 -> 0.3333x0.146)\n",
    "    + 堰の左端w変更(2x0.146 -> 1.8x0.146)\n",
    "* ヘルパー関数の作成\n",
    "* OpenFOAMコマンドの実行\n",
    "* 計算結果の取得\n",
    "* 計算結果の削除\n"
   ]
  },
  {
   "cell_type": "markdown",
   "metadata": {},
   "source": [
    "## チュートリアルのコピー\n",
    "\"/opt/openfoam6/tutorials/multiphase/interFoam/laminar/damBreak/damBreak\"をカレントディレクトリにコピーする。"
   ]
  },
  {
   "cell_type": "code",
   "execution_count": 3,
   "metadata": {},
   "outputs": [],
   "source": [
    "from PyFoam.IPythonHelpers.Case import Case\n",
    "\n",
    "dirname = \"./damBreak\"\n",
    "shutil.rmtree(dirname,ignore_errors=True)\n",
    "tut_dam = Case(\n",
    "    \"/opt/openfoam6/tutorials/multiphase/interFoam/laminar/damBreak/damBreak\")\n",
    "damBreak = tut_dam.sol.cloneCase(dirname)"
   ]
  },
  {
   "cell_type": "markdown",
   "metadata": {},
   "source": [
    "## ControlDictの変更\n",
    "ControlDictに下記変更を加える。\n",
    "\n",
    "1. 計算時間は0.4[s]\n",
    "2. 書き込みタイミングも0.4[s]\n",
    "3. 右端(x+)の面の高さ方向のalpha.waterの取得\n",
    "\n",
    "ただし、3に関してはControlDictでは #includeFuncを使い、\n",
    "実態は別ファイル(singleGraph)に書き込む\n"
   ]
  },
  {
   "cell_type": "code",
   "execution_count": 4,
   "metadata": {},
   "outputs": [],
   "source": [
    "from PyFoam.RunDictionary.ParsedParameterFile import ParsedParameterFile\n",
    "\n",
    "# controlDictの読み込み\n",
    "controlDict=ParsedParameterFile(damBreak.controlDict())\n",
    "\n",
    "# 計算条件の変更\n",
    "controlDict.content[\"endTime\"] = 0.4\n",
    "controlDict.content[\"writeInterval\"] = 0.4\n",
    "\n",
    "# function Objectsの追加\n",
    "controlDict.content[\"functions\"] = {0: '#includeFunc singleGraph'}\n",
    "\n",
    "# 上書き保存\n",
    "controlDict.writeFile()"
   ]
  },
  {
   "cell_type": "markdown",
   "metadata": {},
   "source": [
    "尚、Dictファイルの中身はcontentプロパティに記載されている"
   ]
  },
  {
   "cell_type": "code",
   "execution_count": 5,
   "metadata": {},
   "outputs": [
    {
     "data": {
      "text/plain": [
       "{'application': 'interFoam',\n",
       " 'startFrom': 'startTime',\n",
       " 'startTime': 0,\n",
       " 'stopAt': 'endTime',\n",
       " 'endTime': 0.4,\n",
       " 'deltaT': 0.001,\n",
       " 'writeControl': 'adjustableRunTime',\n",
       " 'writeInterval': 0.4,\n",
       " 'purgeWrite': 0,\n",
       " 'writeFormat': 'binary',\n",
       " 'writePrecision': 6,\n",
       " 'writeCompression': off,\n",
       " 'timeFormat': 'general',\n",
       " 'timePrecision': 6,\n",
       " 'runTimeModifiable': yes,\n",
       " 'adjustTimeStep': yes,\n",
       " 'maxCo': 1,\n",
       " 'maxAlphaCo': 1,\n",
       " 'maxDeltaT': 1,\n",
       " 'functions': {0: '#includeFunc singleGraph'}}"
      ]
     },
     "execution_count": 5,
     "metadata": {},
     "output_type": "execute_result"
    }
   ],
   "source": [
    "controlDict.content"
   ]
  },
  {
   "cell_type": "markdown",
   "metadata": {},
   "source": [
    "singleGraphファイルの作成する。\n",
    "右端部に下(z-)から上(z+)へのlineを引き、ライン上を1000分割した点のalpha.waterを取得する。"
   ]
  },
  {
   "cell_type": "code",
   "execution_count": 6,
   "metadata": {},
   "outputs": [],
   "source": [
    "#singleGraphファイルの中身を直打ち\n",
    "str_sg = \"\"\"\n",
    "start   (0.584 0.0   0.0073);\n",
    "end     (0.584 0.584 0.0073);\n",
    "fields  (alpha.water);\n",
    "\n",
    "// Sampling and I/O settings\n",
    "#includeEtc \"caseDicts/postProcessing/graphs/sampleDict.cfg\"\n",
    "\n",
    "// Override settings here, e.g.\n",
    "setConfig\n",
    "{\n",
    "    type lineUniform;\n",
    "    axis y;        // y, z, xyz\n",
    "    nPoints 1000;\n",
    "}\n",
    "\n",
    "// Must be last entry\n",
    "#includeEtc \"caseDicts/postProcessing/graphs/graph.cfg\"\n",
    "\"\"\"\n",
    "\n",
    "# singleGraphファイルのパス\n",
    "singleGraphPath = \"{}/singleGraph\".format(damBreak.systemDir()) \n",
    "\n",
    "# 上書きモードでファイルを作成、書き込み\n",
    "with open(singleGraphPath, mode='w') as f:\n",
    "    f.write(str_sg)"
   ]
  },
  {
   "cell_type": "markdown",
   "metadata": {},
   "source": [
    "## blockMeshDictの別名保存\n",
    "blockMeshDictを読み込んで別名blockMeshDict.orgとして保存する。"
   ]
  },
  {
   "cell_type": "code",
   "execution_count": 7,
   "metadata": {},
   "outputs": [],
   "source": [
    "from PyFoam.RunDictionary.ParsedBlockMeshDict import ParsedBlockMeshDict\n",
    "\n",
    "blockMeshDict = ParsedBlockMeshDict(damBreak.blockMesh())\n",
    "blockMeshDict.writeFileAs(\"{}.org\".format(damBreak.blockMesh()))"
   ]
  },
  {
   "cell_type": "markdown",
   "metadata": {},
   "source": [
    "## blockMeshDictの変更\n",
    "\n",
    "blockMeshDict.orgを読み込み、堰の高さ変更(0.32876x0.146 -> 0.3333x0.146)に変更した後、blockMeshDictとして保存する"
   ]
  },
  {
   "cell_type": "code",
   "execution_count": 8,
   "metadata": {},
   "outputs": [],
   "source": [
    "# blockMeshDict.orgの読み込み\n",
    "blockMeshDict0 = ParsedBlockMeshDict(\"{}.org\".format(damBreak.blockMesh()))\n",
    "\n",
    "#verticesを読み込む\n",
    "vertices = blockMeshDict0.content[\"vertices\"]\n",
    "\n",
    "#文字列として結合\n",
    "map_result = map(str, vertices)\n",
    "str_result = ','.join(map_result)\n",
    "\n",
    "#文字列置換にて\" 0.32876 \"を\" 0.3333 \", \"(2 \"を\"( 1.8\"に変更\n",
    "str_edit = str_result.replace(\n",
    "                            \" 0.32876 \", \" 0.3333 \"\n",
    "                    ).replace(\n",
    "                            \"(2 \", \"(1.8 \"\n",
    "                    )\n",
    "\n",
    "\n",
    "blockMeshDict0.content[\"vertices\"] = str_edit.split(',')\n",
    "\n",
    "#blockMeshDictとして書き出す\n",
    "blockMeshDict0.writeFileAs(damBreak.blockMesh())"
   ]
  },
  {
   "cell_type": "markdown",
   "metadata": {},
   "source": [
    "## ヘルパー関数の作成\n",
    "PyFoamを用いれば、PythonからOpenFOAMを扱いやすくなる。\n",
    "下記のようなOpenFOAMのコマンド（文字列）とCaseの場所（文字列）を引数としてOpenFOAMのコマンドを実行するヘルパー関数を定義する。"
   ]
  },
  {
   "cell_type": "code",
   "execution_count": 9,
   "metadata": {},
   "outputs": [],
   "source": [
    "from PyFoam.Execution.BasicRunner import BasicRunner\n",
    "\n",
    "def ofExec(cmd, case_path):\n",
    "    \"\"\"\n",
    "    OpenFOAMのコマンドを実行する\n",
    "\n",
    "    Parameters\n",
    "    ----------\n",
    "    cmd : str\n",
    "        OpenFOAMのコマンド\n",
    "    case_path : str\n",
    "        実行対象のcaseの場所\n",
    "    \"\"\"\n",
    "    cmds = shlex.split(\"{} -case {}\".format(cmd, case_path))\n",
    "    runner = BasicRunner(cmds, silent=True)\n",
    "    state = runner.start()\n",
    "    return state"
   ]
  },
  {
   "cell_type": "markdown",
   "metadata": {},
   "source": [
    "## OpenFOAMコマンドの実行\n",
    "まず、Allrunの中身を確認する。\n",
    "Cellの冒頭に`%%bash`と入力するとそのセルでは、bashコマンドを実行できる"
   ]
  },
  {
   "cell_type": "code",
   "execution_count": 10,
   "metadata": {},
   "outputs": [
    {
     "name": "stdout",
     "output_type": "stream",
     "text": [
      "#!/bin/sh\n",
      "cd ${0%/*} || exit 1    # Run from this directory\n",
      "\n",
      "# Source tutorial run functions\n",
      ". $WM_PROJECT_DIR/bin/tools/RunFunctions\n",
      "\n",
      "# Get application name\n",
      "application=$(getApplication)\n",
      "\n",
      "runApplication blockMesh\n",
      "runApplication setFields\n",
      "runApplication $application\n",
      "\n",
      "#------------------------------------------------------------------------------\n"
     ]
    }
   ],
   "source": [
    "%%bash\n",
    "cat ./damBreak/Allrun"
   ]
  },
  {
   "cell_type": "markdown",
   "metadata": {},
   "source": [
    "以上から、blockMesh, setFields, interFoamを実行する"
   ]
  },
  {
   "cell_type": "code",
   "execution_count": 11,
   "metadata": {},
   "outputs": [],
   "source": [
    "res_blockMesh = ofExec(\"blockMesh\", damBreak.name)\n",
    "res_setFields = ofExec(\"setFields\", damBreak.name)\n",
    "res_interFoam = ofExec(\"interFoam\", damBreak.name)"
   ]
  },
  {
   "cell_type": "markdown",
   "metadata": {},
   "source": [
    "## 計算結果の取得\n",
    "postProcessing以下のデータを読み込む。\n",
    "データは1000行2列で、1列目にy方向座標が2列目にalpha.waterの値が記入されている。\n",
    "\n",
    "alpha.water(2列目)が0.5以上となる行のy座標(0列目)を取得し、\n",
    "最も大きなy座標が、0.4[s]における水の最高到達点である。\n"
   ]
  },
  {
   "cell_type": "code",
   "execution_count": 12,
   "metadata": {},
   "outputs": [
    {
     "data": {
      "text/plain": [
       "0.418563"
      ]
     },
     "execution_count": 12,
     "metadata": {},
     "output_type": "execute_result"
    }
   ],
   "source": [
    "import numpy as np\n",
    "\n",
    "hwater = np.loadtxt(\n",
    "    \"{}/postProcessing/singleGraph/0.4/line_alpha.water.xy\".format(\n",
    "        damBreak.name))\n",
    "hwater[0,1] = 0.5 #壁に届かない場合もあるので、一番下は常に0.5\n",
    "hwater[hwater[:,1] >= 0.5,0].max()"
   ]
  },
  {
   "cell_type": "markdown",
   "metadata": {},
   "source": [
    "## 計算結果の削除\n",
    "計算後のディレクトリ状態を確認する"
   ]
  },
  {
   "cell_type": "code",
   "execution_count": 13,
   "metadata": {},
   "outputs": [
    {
     "name": "stdout",
     "output_type": "stream",
     "text": [
      "0\n",
      "0.4\n",
      "Allrun\n",
      "constant\n",
      "damBreak.foam\n",
      "postProcessing\n",
      "PyFoam.blockMesh.logfile\n",
      "PyFoam.interFoam.logfile\n",
      "PyFoam.setFields.logfile\n",
      "PyFoamState.CurrentTime\n",
      "PyFoamState.LastOutputSeen\n",
      "PyFoamState.StartedAt\n",
      "PyFoamState.TheState\n",
      "system\n"
     ]
    }
   ],
   "source": [
    "%%bash\n",
    "ls ./damBreak"
   ]
  },
  {
   "cell_type": "markdown",
   "metadata": {},
   "source": [
    "計算結果の0.4ディレクトリとPyFoam*で始まるファイルを削除すべき"
   ]
  },
  {
   "cell_type": "code",
   "execution_count": 14,
   "metadata": {},
   "outputs": [],
   "source": [
    "damBreak.clearResults()\n",
    "damBreak.clearPattern(\"PyFoam*\")"
   ]
  },
  {
   "cell_type": "code",
   "execution_count": 15,
   "metadata": {},
   "outputs": [
    {
     "name": "stdout",
     "output_type": "stream",
     "text": [
      "0\n",
      "Allrun\n",
      "constant\n",
      "damBreak.foam\n",
      "postProcessing\n",
      "system\n"
     ]
    }
   ],
   "source": [
    "%%bash\n",
    "ls ./damBreak"
   ]
  },
  {
   "cell_type": "markdown",
   "metadata": {},
   "source": [
    "以上、OpenFOAMの自動化に関する学習を終了する"
   ]
  }
 ],
 "metadata": {
  "kernelspec": {
   "display_name": "py36",
   "language": "python",
   "name": "py36"
  },
  "language_info": {
   "codemirror_mode": {
    "name": "ipython",
    "version": 3
   },
   "file_extension": ".py",
   "mimetype": "text/x-python",
   "name": "python",
   "nbconvert_exporter": "python",
   "pygments_lexer": "ipython3",
   "version": "3.6.9"
  }
 },
 "nbformat": 4,
 "nbformat_minor": 4
}
