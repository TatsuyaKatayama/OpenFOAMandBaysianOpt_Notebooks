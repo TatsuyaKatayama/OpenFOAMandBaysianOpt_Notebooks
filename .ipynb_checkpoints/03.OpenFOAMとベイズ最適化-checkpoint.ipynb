{
 "cells": [
  {
   "cell_type": "markdown",
   "metadata": {},
   "source": [
    "# OpenFOAMとベイズ最適化\n",
    "\n",
    "「[01.ベイズ最適化概説](./01.ベイズ最適化概説.ipynb)」及び「[02.OpenFOAMの自動化](./02.OpenFOAMの自動化.ipynb)」での学習内容からOpenFOAMでベイズ最適化を行う。\n"
   ]
  },
  {
   "cell_type": "markdown",
   "metadata": {},
   "source": [
    "## OpenFOAMの環境変数の読み込み"
   ]
  },
  {
   "cell_type": "code",
   "execution_count": null,
   "metadata": {},
   "outputs": [],
   "source": [
    "# 実習1 Jupyter上のPythonからOpenFOAMを実行できるようにする\n",
    "\n",
    "\n",
    "\n",
    "\n",
    "\n",
    "\n",
    "\n",
    "\n",
    "\n",
    "\n"
   ]
  },
  {
   "cell_type": "markdown",
   "metadata": {},
   "source": [
    "---\n",
    "\n",
    "# [最適化問題] damBreakの水を高く飛ばす\n",
    "\n",
    "* 最大化問題 \\\n",
    "    $x_{opt}  = argmax\\{f(x)\\}$\n",
    "* 目的関数 \\\n",
    "    0.4 [s]時における右端(x+)面での水の最高到達点($alpha.water \\geq 0.5$)\n",
    "* 設計変数\n",
    "    $x = (h, w)$\n",
    "* 制約条件\n",
    "    $0.1*0.146 \\leq h \\leq 0.8*0.146$\n",
    "    $1.8*0.146 \\leq w \\leq 2.1*0.146$\n",
    "\n",
    "* Caseディレクトリは「[02.OpenFOAMの自動化](./02.OpenFOAMの自動化.ipynb)」で作成したdamBreakを用いること\n",
    "\n",
    "![damBreak](./imgs/damBreak.png)"
   ]
  },
  {
   "cell_type": "markdown",
   "metadata": {},
   "source": [
    "## 自動化の準備\n",
    "自動化に必要な設定を実施する。今回は下記を実施。"
   ]
  },
  {
   "cell_type": "code",
   "execution_count": null,
   "metadata": {},
   "outputs": [],
   "source": [
    "from PyFoam.RunDictionary.SolutionDirectory import SolutionDirectory\n",
    "\n",
    "#Caseを指定する\n",
    "damBreak = SolutionDirectory(\"./damBreak\")"
   ]
  },
  {
   "cell_type": "code",
   "execution_count": null,
   "metadata": {},
   "outputs": [],
   "source": [
    "from PyFoam.RunDictionary.ParsedBlockMeshDict import ParsedBlockMeshDict\n",
    "\n",
    "#blockMeshDict.orgの文字列化したvertices\n",
    "blockMeshDict0 = ParsedBlockMeshDict(\"{}.org\".format(damBreak.blockMesh()))\n",
    "vertices = blockMeshDict0.content[\"vertices\"]\n",
    "map_result = map(str, vertices)\n",
    "str_result = ','.join(map_result)"
   ]
  },
  {
   "cell_type": "markdown",
   "metadata": {},
   "source": [
    "## ヘルパー関数の作成"
   ]
  },
  {
   "cell_type": "code",
   "execution_count": null,
   "metadata": {},
   "outputs": [],
   "source": [
    "# 実習2 OpenFOAMを実行する上で便利なヘルパー関数を事前に作っておく\n",
    "\n",
    "\n",
    "\n",
    "\n",
    "\n",
    "\n",
    "\n",
    "\n",
    "\n"
   ]
  },
  {
   "cell_type": "markdown",
   "metadata": {},
   "source": [
    "## 目的関数の作成\n"
   ]
  },
  {
   "cell_type": "code",
   "execution_count": null,
   "metadata": {},
   "outputs": [],
   "source": [
    "#実習3 def auto_damBreakを完成させる\n",
    "\n",
    "import numpy as np\n",
    "\n",
    "def auto_damBreak(x):\n",
    "    \"\"\"\n",
    "    blockMeshDictを変更後計算し、右端面の水の最高到達点を返す\n",
    "\n",
    "    Parameters\n",
    "    ----------\n",
    "    x : numpy.array\n",
    "        1行2列の配列\n",
    "    \"\"\"\n",
    "    h = x[0,0]\n",
    "    w = x[0,1]\n",
    "    \n",
    "    #まずはクリーニング（計算結果の削除）\n",
    "\n",
    "    \n",
    "    \n",
    "    \n",
    "    \n",
    "    #blockMeshDictの準備\n",
    "\n",
    "    \n",
    "    \n",
    "    \n",
    "    \n",
    "    \n",
    "    \n",
    "    \n",
    "    \n",
    "    \n",
    "    \n",
    "    \n",
    "    #OpenFOAMコマンドの実行\n",
    "\n",
    "    \n",
    "    \n",
    "    \n",
    "    \n",
    "    #計算結果の取得\n",
    "\n",
    "    \n",
    "    \n",
    "    \n",
    "    \n",
    "\n",
    "    return res"
   ]
  },
  {
   "cell_type": "markdown",
   "metadata": {},
   "source": [
    "下記コードを実行し、0.418563と表示されればOK."
   ]
  },
  {
   "cell_type": "code",
   "execution_count": null,
   "metadata": {},
   "outputs": [],
   "source": [
    "x = np.array([[0.3333,1.8]])\n",
    "auto_damBreak(x)"
   ]
  },
  {
   "cell_type": "markdown",
   "metadata": {},
   "source": [
    "## 設計変数の定義"
   ]
  },
  {
   "cell_type": "code",
   "execution_count": null,
   "metadata": {},
   "outputs": [],
   "source": [
    "#実習4 boundsリスト内に設計変数を定義する\n",
    "\n",
    "\n"
   ]
  },
  {
   "cell_type": "markdown",
   "metadata": {},
   "source": [
    "## 最適化問題の定義\n"
   ]
  },
  {
   "cell_type": "code",
   "execution_count": null,
   "metadata": {},
   "outputs": [],
   "source": [
    "import GPyOpt\n",
    "from numpy.random import seed\n",
    "\n",
    "seed(1) \n",
    "\n",
    "#実習5 最適化問題を定義し、初期実験5回、+25回の最適化計算を実行。\n",
    "\n",
    "\n",
    "\n",
    "\n",
    "\n",
    "\n",
    "\n"
   ]
  },
  {
   "cell_type": "markdown",
   "metadata": {},
   "source": [
    "## 最適化解の確認\n",
    "最適化履歴をプロットし、解を表示する。"
   ]
  },
  {
   "cell_type": "code",
   "execution_count": null,
   "metadata": {},
   "outputs": [],
   "source": [
    "print(myProblem.x_opt, myProblem.fx_opt)"
   ]
  },
  {
   "cell_type": "code",
   "execution_count": null,
   "metadata": {},
   "outputs": [],
   "source": [
    "%matplotlib inline \n",
    "myProblem.plot_convergence() "
   ]
  },
  {
   "cell_type": "code",
   "execution_count": null,
   "metadata": {},
   "outputs": [],
   "source": [
    "myProblem.plot_acquisition()"
   ]
  },
  {
   "cell_type": "markdown",
   "metadata": {},
   "source": [
    "以上で、OpenFOAMとベイズ最適化の学習を終了する"
   ]
  }
 ],
 "metadata": {
  "kernelspec": {
   "display_name": "py36",
   "language": "python",
   "name": "py36"
  },
  "language_info": {
   "codemirror_mode": {
    "name": "ipython",
    "version": 3
   },
   "file_extension": ".py",
   "mimetype": "text/x-python",
   "name": "python",
   "nbconvert_exporter": "python",
   "pygments_lexer": "ipython3",
   "version": "3.6.9"
  }
 },
 "nbformat": 4,
 "nbformat_minor": 4
}
