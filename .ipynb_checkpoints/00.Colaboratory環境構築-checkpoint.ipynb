{
 "cells": [
  {
   "cell_type": "markdown",
   "metadata": {},
   "source": [
    "# Colaboratory実行環境\n",
    "\n",
    "　Colaboratory環境では、クラウドでありスマホからもアクセスでき非常に便利であるが、 \\\n",
    "インスタンスが初期化されるたびに必要なライブラリは逐次インストールする必要がある。\n",
    "\n",
    "尚、同じランタイムを使用している限り、複数ノートブックを開いても \\\n",
    "同一のインスタンスが割り当てられる。\n",
    "\n",
    "## インストール\n",
    "* OpenFOAMのインストール\n",
    "* Pythonパッケージのインストール\n",
    "\n",
    "　各セルにて、Shift + Enter　で実行すること\n",
    "\n",
    "### OpenFOAMのインストール"
   ]
  },
  {
   "cell_type": "code",
   "execution_count": null,
   "metadata": {},
   "outputs": [],
   "source": [
    "%%bash\n",
    "sudo sh -c \"wget -O - http://dl.openfoam.org/gpg.key | apt-key add -\"\n",
    "sudo add-apt-repository http://dl.openfoam.org/ubuntu\n",
    "sudo apt-get update\n",
    "sudo apt-get -y install openfoam6"
   ]
  },
  {
   "cell_type": "markdown",
   "metadata": {},
   "source": [
    "### Pythonパッケージのインストール"
   ]
  },
  {
   "cell_type": "code",
   "execution_count": null,
   "metadata": {},
   "outputs": [],
   "source": [
    "%%bash\n",
    "pip install GPy\n",
    "pip install gpyopt\n",
    "pip install pyDOE\n",
    "pip install PyFoam"
   ]
  },
  {
   "cell_type": "markdown",
   "metadata": {},
   "source": [
    "以上"
   ]
  }
 ],
 "metadata": {
  "kernelspec": {
   "display_name": "py36",
   "language": "python",
   "name": "py36"
  },
  "language_info": {
   "codemirror_mode": {
    "name": "ipython",
    "version": 3
   },
   "file_extension": ".py",
   "mimetype": "text/x-python",
   "name": "python",
   "nbconvert_exporter": "python",
   "pygments_lexer": "ipython3",
   "version": "3.6.9"
  }
 },
 "nbformat": 4,
 "nbformat_minor": 4
}
